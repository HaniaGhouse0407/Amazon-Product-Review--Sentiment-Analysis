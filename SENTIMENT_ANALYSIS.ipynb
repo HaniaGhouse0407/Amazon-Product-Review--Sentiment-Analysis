{
  "cells": [
    {
      "cell_type": "markdown",
      "metadata": {
        "id": "view-in-github",
        "colab_type": "text"
      },
      "source": [
        "<a href=\"https://colab.research.google.com/github/HaniaGhouse0407/Amazon-Product-Review--Sentiment-Analysis/blob/main/SENTIMENT_ANALYSIS.ipynb\" target=\"_parent\"><img src=\"https://colab.research.google.com/assets/colab-badge.svg\" alt=\"Open In Colab\"/></a>"
      ]
    },
    {
      "cell_type": "code",
      "execution_count": null,
      "metadata": {
        "colab": {
          "base_uri": "https://localhost:8080/"
        },
        "id": "vEX7Xp1A7PFi",
        "outputId": "bfa7d743-d593-436d-b081-2680ceb492ac"
      },
      "outputs": [
        {
          "output_type": "stream",
          "name": "stdout",
          "text": [
            "--2023-07-20 17:27:17--  https://www.cs.jhu.edu/~mdredze/datasets/sentiment/domain_sentiment_data.tar.gz\n",
            "Resolving www.cs.jhu.edu (www.cs.jhu.edu)... 128.220.13.64\n",
            "Connecting to www.cs.jhu.edu (www.cs.jhu.edu)|128.220.13.64|:443... connected.\n",
            "HTTP request sent, awaiting response... 200 OK\n",
            "Length: 30586147 (29M) [application/x-gzip]\n",
            "Saving to: ‘domain_sentiment_data.tar.gz’\n",
            "\n",
            "domain_sentiment_da 100%[===================>]  29.17M  20.4MB/s    in 1.4s    \n",
            "\n",
            "2023-07-20 17:27:19 (20.4 MB/s) - ‘domain_sentiment_data.tar.gz’ saved [30586147/30586147]\n",
            "\n"
          ]
        }
      ],
      "source": [
        "! wget \"https://www.cs.jhu.edu/~mdredze/datasets/sentiment/domain_sentiment_data.tar.gz\"\n",
        "! tar -xzf \"/content/domain_sentiment_data.tar.gz\"\n"
      ]
    },
    {
      "cell_type": "code",
      "execution_count": null,
      "metadata": {
        "colab": {
          "base_uri": "https://localhost:8080/"
        },
        "id": "oIB8XWQr7P7o",
        "outputId": "7c35cc0b-37a1-4f10-f778-34e06e17fe1f"
      },
      "outputs": [
        {
          "output_type": "stream",
          "name": "stderr",
          "text": [
            "[nltk_data] Downloading package stopwords to /root/nltk_data...\n",
            "[nltk_data]   Unzipping corpora/stopwords.zip.\n",
            "[nltk_data] Downloading package punkt to /root/nltk_data...\n",
            "[nltk_data]   Unzipping tokenizers/punkt.zip.\n"
          ]
        },
        {
          "output_type": "execute_result",
          "data": {
            "text/plain": [
              "True"
            ]
          },
          "metadata": {},
          "execution_count": 2
        }
      ],
      "source": [
        "import os\n",
        "import numpy as np\n",
        "\n",
        "import matplotlib.pyplot as plt\n",
        "import re\n",
        "from pickle import dump\n",
        "from pickle import load\n",
        "\n",
        "import nltk\n",
        "from nltk.corpus import stopwords\n",
        "from nltk.tokenize import word_tokenize\n",
        "from nltk.stem.porter import PorterStemmer\n",
        "\n",
        "import gensim\n",
        "import gensim.downloader as api\n",
        "\n",
        "import tensorflow as tf\n",
        "from tensorflow.keras.preprocessing.sequence import pad_sequences\n",
        "from tensorflow.keras.layers import LSTM, Input, Dense, Embedding, TimeDistributed\n",
        "from tensorflow.keras.models import Sequential\n",
        "\n",
        "from sklearn.model_selection import train_test_split\n",
        "from sklearn.utils import shuffle\n",
        "\n",
        "nltk.download('stopwords')\n",
        "nltk.download('punkt')"
      ]
    },
    {
      "cell_type": "markdown",
      "source": [
        "**Data PreProcessing**\n"
      ],
      "metadata": {
        "id": "B6U92zeHympz"
      }
    },
    {
      "cell_type": "code",
      "execution_count": null,
      "metadata": {
        "id": "C-jktsVA7ZaC"
      },
      "outputs": [],
      "source": [
        "from nltk.tokenize import word_tokenize\n",
        "def clean_sentence(sentence: str) -> list:\n",
        "  # Remove the review tag\n",
        "  tags = re.compile(\"(|<\\/review_text>)\")\n",
        "  sentence = re.sub(tags, '', sentence)\n",
        "\n",
        "  # lower case\n",
        "  sentence = sentence.lower()\n",
        "\n",
        "  # Remove emails and urls\n",
        "  email_urls = re.compile(\"(\\bhttp.+? | \\b[A-Za-z0-9._%+-]+@[A-Za-z0-9.-]+\\.[A-Z|a-z]{2,}\\b)\")\n",
        "  sentence = re.sub(email_urls, '', sentence)\n",
        "\n",
        "  # Some used '@' to hide offensive words (bla -> bl@)\n",
        "  ats = re.compile('@')\n",
        "  sentence = re.sub(ats, 'a', sentence)\n",
        "\n",
        "  # Remove Punctuation\n",
        "  # punc = re.compile(\"[!\\\"\\#$\\%\\&\\'\\*\\+,\\-\\.\\/\\:;<=>\\?\n",
        "  punc = re.compile(\"[^\\w\\s(\\w+\\-\\w+)]\")\n",
        "  sentence = re.sub(punc, '', sentence)\n",
        "\n",
        "  # Remove stopwords and tokenize\n",
        "  # sentence = sentence.split(sep=' ')\n",
        "  sentence = word_tokenize(sentence)\n",
        "  sentence = [word for word in sentence if not word in stopwords.words()]\n",
        "\n",
        "  # Stemming (Returning to root)\n",
        "  # stemmer = PorterStemmer()\n",
        "  # sentence = [stemmer.stem(word) for word in sentence]\n",
        "\n",
        "\n",
        "  return sentence\n"
      ]
    },
    {
      "cell_type": "markdown",
      "source": [
        "**Data Splitting**"
      ],
      "metadata": {
        "id": "dN_OvVdXytuS"
      }
    },
    {
      "cell_type": "code",
      "execution_count": null,
      "metadata": {
        "colab": {
          "base_uri": "https://localhost:8080/"
        },
        "id": "v-eBCtlv7rR4",
        "outputId": "4fef5b3e-aa54-4646-aee9-7e17d1ae823e"
      },
      "outputs": [
        {
          "metadata": {
            "tags": null
          },
          "name": "stdout",
          "output_type": "stream",
          "text": [
            "Reading Train Data\n",
            "Reading 1000 Negative reviews from books\n",
            "Reading 1000 Positive reviews from books\n",
            "Reading 1000 Negative reviews from dvd\n",
            "Reading 1000 Positive reviews from dvd\n",
            "Reading 1000 Negative reviews from electronics\n",
            "Reading 1000 Positive reviews from electronics\n",
            "Reading Test Data\n",
            "Reading 1000 Negative reviews from kitchen_&_housewares\n",
            "Reading 1000 Positive reviews from kitchen_&_housewares\n"
          ]
        }
      ],
      "source": [
        "path = \"/content/sorted_data_acl/\"\n",
        "regex_review = re.compile(\".+?<\\/review_text>\", flags=re.DOTALL)\n",
        "\n",
        "# Training Data\n",
        "folders = [\"books\",\"dvd\",\"electronics\"]\n",
        "x_train = list()\n",
        "y_train = list()\n",
        "print('Reading Train Data')\n",
        "for folder in folders:\n",
        "  temp = open(path+folder+\"/negative.review\", 'r').read() # Read the file\n",
        "  temp = re.findall(regex_review, temp) # Get reviews\n",
        "  print(\"Reading\",len(temp),\"Negative reviews from\",folder)\n",
        "  for sentence in temp:\n",
        "    x_train.append(clean_sentence(sentence))\n",
        "    y_train.append(0)\n",
        "\n",
        "\n",
        "  temp = open(path+folder+\"/positive.review\", 'r').read() # Read the file\n",
        "  temp = re.findall(regex_review, temp) # Get reviews\n",
        "  print(\"Reading\",len(temp),\"Positive reviews from\",folder)\n",
        "  for sentence in temp:\n",
        "    x_train.append(clean_sentence(sentence))\n",
        "    y_train.append(1)\n",
        "\n",
        "\n",
        "\n",
        "# Test data\n",
        "folders = [\"kitchen_&_housewares\"]\n",
        "x_test = list()\n",
        "y_test = list()\n",
        "print('Reading Test Data')\n",
        "for folder in folders:\n",
        "  temp = open(path+folder+\"/negative.review\", 'r').read() # Read the file\n",
        "  temp = re.findall(regex_review, temp) # Get reviews\n",
        "  print(\"Reading\",len(temp),\"Negative reviews from\",folder)\n",
        "  for sentence in temp:\n",
        "    x_test.append(clean_sentence(sentence))\n",
        "    y_test.append(0)\n",
        "\n",
        "\n",
        "  temp = open(path+folder+\"/positive.review\", 'r').read() # Read the file\n",
        "  temp = re.findall(regex_review, temp) # Get reviews\n",
        "  print(\"Reading\",len(temp),\"Positive reviews from\",folder)\n",
        "  for sentence in temp:\n",
        "    x_test.append(clean_sentence(sentence))\n",
        "    y_test.append(1)"
      ]
    },
    {
      "cell_type": "markdown",
      "source": [
        "**TASK 3 - MODEL BUILDING**\n",
        "\n"
      ],
      "metadata": {
        "id": "V0Do5MJjfwX2"
      }
    },
    {
      "cell_type": "code",
      "execution_count": null,
      "metadata": {
        "colab": {
          "base_uri": "https://localhost:8080/",
          "height": 1000
        },
        "id": "IEiibTUV1fuK",
        "outputId": "14d18c0a-0374-46a3-9784-088da8321ff6"
      },
      "outputs": [
        {
          "output_type": "stream",
          "name": "stdout",
          "text": [
            "Vocab size: 82841\n",
            "Len train: 6000\n",
            "Len test: 2000\n",
            "Train shape: (6000, 125)\n",
            "Test shape: (2000, 125)\n",
            "Train label shape: (6000,)\n",
            "Test label shape: (2000,)\n",
            "{'corpora': {'semeval-2016-2017-task3-subtaskBC': {'num_records': -1, 'record_format': 'dict', 'file_size': 6344358, 'reader_code': 'https://github.com/RaRe-Technologies/gensim-data/releases/download/semeval-2016-2017-task3-subtaskB-eng/__init__.py', 'license': 'All files released for the task are free for general research use', 'fields': {'2016-train': ['...'], '2016-dev': ['...'], '2017-test': ['...'], '2016-test': ['...']}, 'description': 'SemEval 2016 / 2017 Task 3 Subtask B and C datasets contain train+development (317 original questions, 3,169 related questions, and 31,690 comments), and test datasets in English. The description of the tasks and the collected data is given in sections 3 and 4.1 of the task paper http://alt.qcri.org/semeval2016/task3/data/uploads/semeval2016-task3-report.pdf linked in section “Papers” of https://github.com/RaRe-Technologies/gensim-data/issues/18.', 'checksum': '701ea67acd82e75f95e1d8e62fb0ad29', 'file_name': 'semeval-2016-2017-task3-subtaskBC.gz', 'read_more': ['http://alt.qcri.org/semeval2017/task3/', 'http://alt.qcri.org/semeval2017/task3/data/uploads/semeval2017-task3.pdf', 'https://github.com/RaRe-Technologies/gensim-data/issues/18', 'https://github.com/Witiko/semeval-2016_2017-task3-subtaskB-english'], 'parts': 1}, 'semeval-2016-2017-task3-subtaskA-unannotated': {'num_records': 189941, 'record_format': 'dict', 'file_size': 234373151, 'reader_code': 'https://github.com/RaRe-Technologies/gensim-data/releases/download/semeval-2016-2017-task3-subtaskA-unannotated-eng/__init__.py', 'license': 'These datasets are free for general research use.', 'fields': {'THREAD_SEQUENCE': '', 'RelQuestion': {'RELQ_CATEGORY': 'question category, according to the Qatar Living taxonomy', 'RELQ_DATE': 'date of posting', 'RELQ_ID': 'question indentifier', 'RELQ_USERID': 'identifier of the user asking the question', 'RELQ_USERNAME': 'name of the user asking the question', 'RelQBody': 'body of question', 'RelQSubject': 'subject of question'}, 'RelComments': [{'RelCText': 'text of answer', 'RELC_USERID': 'identifier of the user posting the comment', 'RELC_ID': 'comment identifier', 'RELC_USERNAME': 'name of the user posting the comment', 'RELC_DATE': 'date of posting'}]}, 'description': 'SemEval 2016 / 2017 Task 3 Subtask A unannotated dataset contains 189,941 questions and 1,894,456 comments in English collected from the Community Question Answering (CQA) web forum of Qatar Living. These can be used as a corpus for language modelling.', 'checksum': '2de0e2f2c4f91c66ae4fcf58d50ba816', 'file_name': 'semeval-2016-2017-task3-subtaskA-unannotated.gz', 'read_more': ['http://alt.qcri.org/semeval2016/task3/', 'http://alt.qcri.org/semeval2016/task3/data/uploads/semeval2016-task3-report.pdf', 'https://github.com/RaRe-Technologies/gensim-data/issues/18', 'https://github.com/Witiko/semeval-2016_2017-task3-subtaskA-unannotated-english'], 'parts': 1}, 'patent-2017': {'num_records': 353197, 'record_format': 'dict', 'file_size': 3087262469, 'reader_code': 'https://github.com/RaRe-Technologies/gensim-data/releases/download/patent-2017/__init__.py', 'license': 'not found', 'description': \"Patent Grant Full Text. Contains the full text including tables, sequence data and 'in-line' mathematical expressions of each patent grant issued in 2017.\", 'checksum-0': '818501f0b9af62d3b88294d86d509f8f', 'checksum-1': '66c05635c1d3c7a19b4a335829d09ffa', 'file_name': 'patent-2017.gz', 'read_more': ['http://patents.reedtech.com/pgrbft.php'], 'parts': 2}, 'quora-duplicate-questions': {'num_records': 404290, 'record_format': 'dict', 'file_size': 21684784, 'reader_code': 'https://github.com/RaRe-Technologies/gensim-data/releases/download/quora-duplicate-questions/__init__.py', 'license': 'probably https://www.quora.com/about/tos', 'fields': {'question1': 'the full text of each question', 'question2': 'the full text of each question', 'qid1': 'unique ids of each question', 'qid2': 'unique ids of each question', 'id': 'the id of a training set question pair', 'is_duplicate': 'the target variable, set to 1 if question1 and question2 have essentially the same meaning, and 0 otherwise'}, 'description': 'Over 400,000 lines of potential question duplicate pairs. Each line contains IDs for each question in the pair, the full text for each question, and a binary value that indicates whether the line contains a duplicate pair or not.', 'checksum': 'd7cfa7fbc6e2ec71ab74c495586c6365', 'file_name': 'quora-duplicate-questions.gz', 'read_more': ['https://data.quora.com/First-Quora-Dataset-Release-Question-Pairs'], 'parts': 1}, 'wiki-english-20171001': {'num_records': 4924894, 'record_format': 'dict', 'file_size': 6516051717, 'reader_code': 'https://github.com/RaRe-Technologies/gensim-data/releases/download/wiki-english-20171001/__init__.py', 'license': 'https://dumps.wikimedia.org/legal.html', 'fields': {'section_texts': 'list of body of sections', 'section_titles': 'list of titles of sections', 'title': 'Title of wiki article'}, 'description': 'Extracted Wikipedia dump from October 2017. Produced by `python -m gensim.scripts.segment_wiki -f enwiki-20171001-pages-articles.xml.bz2 -o wiki-en.gz`', 'checksum-0': 'a7d7d7fd41ea7e2d7fa32ec1bb640d71', 'checksum-1': 'b2683e3356ffbca3b6c2dca6e9801f9f', 'checksum-2': 'c5cde2a9ae77b3c4ebce804f6df542c2', 'checksum-3': '00b71144ed5e3aeeb885de84f7452b81', 'file_name': 'wiki-english-20171001.gz', 'read_more': ['https://dumps.wikimedia.org/enwiki/20171001/'], 'parts': 4}, 'text8': {'num_records': 1701, 'record_format': 'list of str (tokens)', 'file_size': 33182058, 'reader_code': 'https://github.com/RaRe-Technologies/gensim-data/releases/download/text8/__init__.py', 'license': 'not found', 'description': 'First 100,000,000 bytes of plain text from Wikipedia. Used for testing purposes; see wiki-english-* for proper full Wikipedia datasets.', 'checksum': '68799af40b6bda07dfa47a32612e5364', 'file_name': 'text8.gz', 'read_more': ['http://mattmahoney.net/dc/textdata.html'], 'parts': 1}, 'fake-news': {'num_records': 12999, 'record_format': 'dict', 'file_size': 20102776, 'reader_code': 'https://github.com/RaRe-Technologies/gensim-data/releases/download/fake-news/__init__.py', 'license': 'https://creativecommons.org/publicdomain/zero/1.0/', 'fields': {'crawled': 'date the story was archived', 'ord_in_thread': '', 'published': 'date published', 'participants_count': 'number of participants', 'shares': 'number of Facebook shares', 'replies_count': 'number of replies', 'main_img_url': 'image from story', 'spam_score': 'data from webhose.io', 'uuid': 'unique identifier', 'language': 'data from webhose.io', 'title': 'title of story', 'country': 'data from webhose.io', 'domain_rank': 'data from webhose.io', 'author': 'author of story', 'comments': 'number of Facebook comments', 'site_url': 'site URL from BS detector', 'text': 'text of story', 'thread_title': '', 'type': 'type of website (label from BS detector)', 'likes': 'number of Facebook likes'}, 'description': \"News dataset, contains text and metadata from 244 websites and represents 12,999 posts in total from a specific window of 30 days. The data was pulled using the webhose.io API, and because it's coming from their crawler, not all websites identified by their BS Detector are present in this dataset. Data sources that were missing a label were simply assigned a label of 'bs'. There are (ostensibly) no genuine, reliable, or trustworthy news sources represented in this dataset (so far), so don't trust anything you read.\", 'checksum': '5e64e942df13219465927f92dcefd5fe', 'file_name': 'fake-news.gz', 'read_more': ['https://www.kaggle.com/mrisdal/fake-news'], 'parts': 1}, '20-newsgroups': {'num_records': 18846, 'record_format': 'dict', 'file_size': 14483581, 'reader_code': 'https://github.com/RaRe-Technologies/gensim-data/releases/download/20-newsgroups/__init__.py', 'license': 'not found', 'fields': {'topic': 'name of topic (20 variant of possible values)', 'set': \"marker of original split (possible values 'train' and 'test')\", 'data': '', 'id': 'original id inferred from folder name'}, 'description': 'The notorious collection of approximately 20,000 newsgroup posts, partitioned (nearly) evenly across 20 different newsgroups.', 'checksum': 'c92fd4f6640a86d5ba89eaad818a9891', 'file_name': '20-newsgroups.gz', 'read_more': ['http://qwone.com/~jason/20Newsgroups/'], 'parts': 1}, '__testing_matrix-synopsis': {'description': '[THIS IS ONLY FOR TESTING] Synopsis of the movie matrix.', 'checksum': '1767ac93a089b43899d54944b07d9dc5', 'file_name': '__testing_matrix-synopsis.gz', 'read_more': ['http://www.imdb.com/title/tt0133093/plotsummary?ref_=ttpl_pl_syn#synopsis'], 'parts': 1}, '__testing_multipart-matrix-synopsis': {'description': '[THIS IS ONLY FOR TESTING] Synopsis of the movie matrix.', 'checksum-0': 'c8b0c7d8cf562b1b632c262a173ac338', 'checksum-1': '5ff7fc6818e9a5d9bc1cf12c35ed8b96', 'checksum-2': '966db9d274d125beaac7987202076cba', 'file_name': '__testing_multipart-matrix-synopsis.gz', 'read_more': ['http://www.imdb.com/title/tt0133093/plotsummary?ref_=ttpl_pl_syn#synopsis'], 'parts': 3}}, 'models': {'fasttext-wiki-news-subwords-300': {'num_records': 999999, 'file_size': 1005007116, 'base_dataset': 'Wikipedia 2017, UMBC webbase corpus and statmt.org news dataset (16B tokens)', 'reader_code': 'https://github.com/RaRe-Technologies/gensim-data/releases/download/fasttext-wiki-news-subwords-300/__init__.py', 'license': 'https://creativecommons.org/licenses/by-sa/3.0/', 'parameters': {'dimension': 300}, 'description': '1 million word vectors trained on Wikipedia 2017, UMBC webbase corpus and statmt.org news dataset (16B tokens).', 'read_more': ['https://fasttext.cc/docs/en/english-vectors.html', 'https://arxiv.org/abs/1712.09405', 'https://arxiv.org/abs/1607.01759'], 'checksum': 'de2bb3a20c46ce65c9c131e1ad9a77af', 'file_name': 'fasttext-wiki-news-subwords-300.gz', 'parts': 1}, 'conceptnet-numberbatch-17-06-300': {'num_records': 1917247, 'file_size': 1225497562, 'base_dataset': 'ConceptNet, word2vec, GloVe, and OpenSubtitles 2016', 'reader_code': 'https://github.com/RaRe-Technologies/gensim-data/releases/download/conceptnet-numberbatch-17-06-300/__init__.py', 'license': 'https://github.com/commonsense/conceptnet-numberbatch/blob/master/LICENSE.txt', 'parameters': {'dimension': 300}, 'description': 'ConceptNet Numberbatch consists of state-of-the-art semantic vectors (also known as word embeddings) that can be used directly as a representation of word meanings or as a starting point for further machine learning. ConceptNet Numberbatch is part of the ConceptNet open data project. ConceptNet provides lots of ways to compute with word meanings, one of which is word embeddings. ConceptNet Numberbatch is a snapshot of just the word embeddings. It is built using an ensemble that combines data from ConceptNet, word2vec, GloVe, and OpenSubtitles 2016, using a variation on retrofitting.', 'read_more': ['http://aaai.org/ocs/index.php/AAAI/AAAI17/paper/view/14972', 'https://github.com/commonsense/conceptnet-numberbatch', 'http://conceptnet.io/'], 'checksum': 'fd642d457adcd0ea94da0cd21b150847', 'file_name': 'conceptnet-numberbatch-17-06-300.gz', 'parts': 1}, 'word2vec-ruscorpora-300': {'num_records': 184973, 'file_size': 208427381, 'base_dataset': 'Russian National Corpus (about 250M words)', 'reader_code': 'https://github.com/RaRe-Technologies/gensim-data/releases/download/word2vec-ruscorpora-300/__init__.py', 'license': 'https://creativecommons.org/licenses/by/4.0/deed.en', 'parameters': {'dimension': 300, 'window_size': 10}, 'description': 'Word2vec Continuous Skipgram vectors trained on full Russian National Corpus (about 250M words). The model contains 185K words.', 'preprocessing': 'The corpus was lemmatized and tagged with Universal PoS', 'read_more': ['https://www.academia.edu/24306935/WebVectors_a_Toolkit_for_Building_Web_Interfaces_for_Vector_Semantic_Models', 'http://rusvectores.org/en/', 'https://github.com/RaRe-Technologies/gensim-data/issues/3'], 'checksum': '9bdebdc8ae6d17d20839dd9b5af10bc4', 'file_name': 'word2vec-ruscorpora-300.gz', 'parts': 1}, 'word2vec-google-news-300': {'num_records': 3000000, 'file_size': 1743563840, 'base_dataset': 'Google News (about 100 billion words)', 'reader_code': 'https://github.com/RaRe-Technologies/gensim-data/releases/download/word2vec-google-news-300/__init__.py', 'license': 'not found', 'parameters': {'dimension': 300}, 'description': \"Pre-trained vectors trained on a part of the Google News dataset (about 100 billion words). The model contains 300-dimensional vectors for 3 million words and phrases. The phrases were obtained using a simple data-driven approach described in 'Distributed Representations of Words and Phrases and their Compositionality' (https://code.google.com/archive/p/word2vec/).\", 'read_more': ['https://code.google.com/archive/p/word2vec/', 'https://arxiv.org/abs/1301.3781', 'https://arxiv.org/abs/1310.4546', 'https://www.microsoft.com/en-us/research/publication/linguistic-regularities-in-continuous-space-word-representations/?from=http%3A%2F%2Fresearch.microsoft.com%2Fpubs%2F189726%2Frvecs.pdf'], 'checksum': 'a5e5354d40acb95f9ec66d5977d140ef', 'file_name': 'word2vec-google-news-300.gz', 'parts': 1}, 'glove-wiki-gigaword-50': {'num_records': 400000, 'file_size': 69182535, 'base_dataset': 'Wikipedia 2014 + Gigaword 5 (6B tokens, uncased)', 'reader_code': 'https://github.com/RaRe-Technologies/gensim-data/releases/download/glove-wiki-gigaword-50/__init__.py', 'license': 'http://opendatacommons.org/licenses/pddl/', 'parameters': {'dimension': 50}, 'description': 'Pre-trained vectors based on Wikipedia 2014 + Gigaword, 5.6B tokens, 400K vocab, uncased (https://nlp.stanford.edu/projects/glove/).', 'preprocessing': 'Converted to w2v format with `python -m gensim.scripts.glove2word2vec -i <fname> -o glove-wiki-gigaword-50.txt`.', 'read_more': ['https://nlp.stanford.edu/projects/glove/', 'https://nlp.stanford.edu/pubs/glove.pdf'], 'checksum': 'c289bc5d7f2f02c6dc9f2f9b67641813', 'file_name': 'glove-wiki-gigaword-50.gz', 'parts': 1}, 'glove-wiki-gigaword-100': {'num_records': 400000, 'file_size': 134300434, 'base_dataset': 'Wikipedia 2014 + Gigaword 5 (6B tokens, uncased)', 'reader_code': 'https://github.com/RaRe-Technologies/gensim-data/releases/download/glove-wiki-gigaword-100/__init__.py', 'license': 'http://opendatacommons.org/licenses/pddl/', 'parameters': {'dimension': 100}, 'description': 'Pre-trained vectors based on Wikipedia 2014 + Gigaword 5.6B tokens, 400K vocab, uncased (https://nlp.stanford.edu/projects/glove/).', 'preprocessing': 'Converted to w2v format with `python -m gensim.scripts.glove2word2vec -i <fname> -o glove-wiki-gigaword-100.txt`.', 'read_more': ['https://nlp.stanford.edu/projects/glove/', 'https://nlp.stanford.edu/pubs/glove.pdf'], 'checksum': '40ec481866001177b8cd4cb0df92924f', 'file_name': 'glove-wiki-gigaword-100.gz', 'parts': 1}, 'glove-wiki-gigaword-200': {'num_records': 400000, 'file_size': 264336934, 'base_dataset': 'Wikipedia 2014 + Gigaword 5 (6B tokens, uncased)', 'reader_code': 'https://github.com/RaRe-Technologies/gensim-data/releases/download/glove-wiki-gigaword-200/__init__.py', 'license': 'http://opendatacommons.org/licenses/pddl/', 'parameters': {'dimension': 200}, 'description': 'Pre-trained vectors based on Wikipedia 2014 + Gigaword, 5.6B tokens, 400K vocab, uncased (https://nlp.stanford.edu/projects/glove/).', 'preprocessing': 'Converted to w2v format with `python -m gensim.scripts.glove2word2vec -i <fname> -o glove-wiki-gigaword-200.txt`.', 'read_more': ['https://nlp.stanford.edu/projects/glove/', 'https://nlp.stanford.edu/pubs/glove.pdf'], 'checksum': '59652db361b7a87ee73834a6c391dfc1', 'file_name': 'glove-wiki-gigaword-200.gz', 'parts': 1}, 'glove-wiki-gigaword-300': {'num_records': 400000, 'file_size': 394362229, 'base_dataset': 'Wikipedia 2014 + Gigaword 5 (6B tokens, uncased)', 'reader_code': 'https://github.com/RaRe-Technologies/gensim-data/releases/download/glove-wiki-gigaword-300/__init__.py', 'license': 'http://opendatacommons.org/licenses/pddl/', 'parameters': {'dimension': 300}, 'description': 'Pre-trained vectors based on Wikipedia 2014 + Gigaword, 5.6B tokens, 400K vocab, uncased (https://nlp.stanford.edu/projects/glove/).', 'preprocessing': 'Converted to w2v format with `python -m gensim.scripts.glove2word2vec -i <fname> -o glove-wiki-gigaword-300.txt`.', 'read_more': ['https://nlp.stanford.edu/projects/glove/', 'https://nlp.stanford.edu/pubs/glove.pdf'], 'checksum': '29e9329ac2241937d55b852e8284e89b', 'file_name': 'glove-wiki-gigaword-300.gz', 'parts': 1}, 'glove-twitter-25': {'num_records': 1193514, 'file_size': 109885004, 'base_dataset': 'Twitter (2B tweets, 27B tokens, 1.2M vocab, uncased)', 'reader_code': 'https://github.com/RaRe-Technologies/gensim-data/releases/download/glove-twitter-25/__init__.py', 'license': 'http://opendatacommons.org/licenses/pddl/', 'parameters': {'dimension': 25}, 'description': 'Pre-trained vectors based on 2B tweets, 27B tokens, 1.2M vocab, uncased (https://nlp.stanford.edu/projects/glove/).', 'preprocessing': 'Converted to w2v format with `python -m gensim.scripts.glove2word2vec -i <fname> -o glove-twitter-25.txt`.', 'read_more': ['https://nlp.stanford.edu/projects/glove/', 'https://nlp.stanford.edu/pubs/glove.pdf'], 'checksum': '50db0211d7e7a2dcd362c6b774762793', 'file_name': 'glove-twitter-25.gz', 'parts': 1}, 'glove-twitter-50': {'num_records': 1193514, 'file_size': 209216938, 'base_dataset': 'Twitter (2B tweets, 27B tokens, 1.2M vocab, uncased)', 'reader_code': 'https://github.com/RaRe-Technologies/gensim-data/releases/download/glove-twitter-50/__init__.py', 'license': 'http://opendatacommons.org/licenses/pddl/', 'parameters': {'dimension': 50}, 'description': 'Pre-trained vectors based on 2B tweets, 27B tokens, 1.2M vocab, uncased (https://nlp.stanford.edu/projects/glove/)', 'preprocessing': 'Converted to w2v format with `python -m gensim.scripts.glove2word2vec -i <fname> -o glove-twitter-50.txt`.', 'read_more': ['https://nlp.stanford.edu/projects/glove/', 'https://nlp.stanford.edu/pubs/glove.pdf'], 'checksum': 'c168f18641f8c8a00fe30984c4799b2b', 'file_name': 'glove-twitter-50.gz', 'parts': 1}, 'glove-twitter-100': {'num_records': 1193514, 'file_size': 405932991, 'base_dataset': 'Twitter (2B tweets, 27B tokens, 1.2M vocab, uncased)', 'reader_code': 'https://github.com/RaRe-Technologies/gensim-data/releases/download/glove-twitter-100/__init__.py', 'license': 'http://opendatacommons.org/licenses/pddl/', 'parameters': {'dimension': 100}, 'description': 'Pre-trained vectors based on  2B tweets, 27B tokens, 1.2M vocab, uncased (https://nlp.stanford.edu/projects/glove/)', 'preprocessing': 'Converted to w2v format with `python -m gensim.scripts.glove2word2vec -i <fname> -o glove-twitter-100.txt`.', 'read_more': ['https://nlp.stanford.edu/projects/glove/', 'https://nlp.stanford.edu/pubs/glove.pdf'], 'checksum': 'b04f7bed38756d64cf55b58ce7e97b15', 'file_name': 'glove-twitter-100.gz', 'parts': 1}, 'glove-twitter-200': {'num_records': 1193514, 'file_size': 795373100, 'base_dataset': 'Twitter (2B tweets, 27B tokens, 1.2M vocab, uncased)', 'reader_code': 'https://github.com/RaRe-Technologies/gensim-data/releases/download/glove-twitter-200/__init__.py', 'license': 'http://opendatacommons.org/licenses/pddl/', 'parameters': {'dimension': 200}, 'description': 'Pre-trained vectors based on 2B tweets, 27B tokens, 1.2M vocab, uncased (https://nlp.stanford.edu/projects/glove/).', 'preprocessing': 'Converted to w2v format with `python -m gensim.scripts.glove2word2vec -i <fname> -o glove-twitter-200.txt`.', 'read_more': ['https://nlp.stanford.edu/projects/glove/', 'https://nlp.stanford.edu/pubs/glove.pdf'], 'checksum': 'e52e8392d1860b95d5308a525817d8f9', 'file_name': 'glove-twitter-200.gz', 'parts': 1}, '__testing_word2vec-matrix-synopsis': {'description': '[THIS IS ONLY FOR TESTING] Word vecrors of the movie matrix.', 'parameters': {'dimensions': 50}, 'preprocessing': 'Converted to w2v using a preprocessed corpus. Converted to w2v format with `python3.5 -m gensim.models.word2vec -train <input_filename> -iter 50 -output <output_filename>`.', 'read_more': [], 'checksum': '534dcb8b56a360977a269b7bfc62d124', 'file_name': '__testing_word2vec-matrix-synopsis.gz', 'parts': 1}}}\n"
          ]
        },
        {
          "output_type": "stream",
          "name": "stderr",
          "text": [
            "WARNING:absl:`lr` is deprecated in Keras optimizer, please use `learning_rate` or use the legacy optimizer, e.g.,tf.keras.optimizers.legacy.Adam.\n"
          ]
        },
        {
          "output_type": "stream",
          "name": "stdout",
          "text": [
            "Model: \"SentimentAnalysis\"\n",
            "_________________________________________________________________\n",
            " Layer (type)                Output Shape              Param #   \n",
            "=================================================================\n",
            " embedding (Embedding)       (None, 125, 200)          16568200  \n",
            "                                                                 \n",
            " lstm (LSTM)                 (None, 128)               168448    \n",
            "                                                                 \n",
            " dense (Dense)               (None, 3)                 387       \n",
            "                                                                 \n",
            "=================================================================\n",
            "Total params: 16,737,035\n",
            "Trainable params: 168,835\n",
            "Non-trainable params: 16,568,200\n",
            "_________________________________________________________________\n",
            "Epoch 1/10\n",
            "150/150 [==============================] - 41s 262ms/step - loss: 0.7041 - accuracy: 0.5798 - val_loss: 0.7707 - val_accuracy: 0.1958\n",
            "Epoch 2/10\n",
            "150/150 [==============================] - 32s 211ms/step - loss: 0.6631 - accuracy: 0.6135 - val_loss: 0.8930 - val_accuracy: 0.1758\n",
            "Epoch 3/10\n",
            "150/150 [==============================] - 36s 239ms/step - loss: 0.5172 - accuracy: 0.7431 - val_loss: 1.3276 - val_accuracy: 0.2283\n",
            "Epoch 4/10\n",
            "150/150 [==============================] - 32s 210ms/step - loss: 0.3576 - accuracy: 0.8398 - val_loss: 3.0732 - val_accuracy: 0.1825\n",
            "Epoch 5/10\n",
            "150/150 [==============================] - 34s 227ms/step - loss: 0.3150 - accuracy: 0.8644 - val_loss: 2.8974 - val_accuracy: 0.1750\n",
            "Epoch 6/10\n",
            "150/150 [==============================] - 34s 228ms/step - loss: 0.2869 - accuracy: 0.8773 - val_loss: 4.8730 - val_accuracy: 0.1683\n",
            "Epoch 7/10\n",
            "150/150 [==============================] - 34s 223ms/step - loss: 0.2509 - accuracy: 0.8942 - val_loss: 4.4974 - val_accuracy: 0.1700\n",
            "Epoch 8/10\n",
            "150/150 [==============================] - 36s 238ms/step - loss: 0.2153 - accuracy: 0.9131 - val_loss: 6.0934 - val_accuracy: 0.1692\n",
            "Epoch 9/10\n",
            "150/150 [==============================] - 34s 228ms/step - loss: 0.1832 - accuracy: 0.9287 - val_loss: 6.1940 - val_accuracy: 0.1700\n",
            "Epoch 10/10\n",
            "150/150 [==============================] - 36s 238ms/step - loss: 0.1507 - accuracy: 0.9410 - val_loss: 5.9919 - val_accuracy: 0.1783\n",
            "63/63 [==============================] - 5s 78ms/step - loss: 0.5857 - accuracy: 0.7600\n",
            "Test accuracy: 76.0 %\n"
          ]
        },
        {
          "output_type": "display_data",
          "data": {
            "text/plain": [
              "<Figure size 640x480 with 1 Axes>"
            ],
            "image/png": "[encoded data removed]"
          },
          "metadata": {}
        },
        {
          "output_type": "display_data",
          "data": {
            "text/plain": [
              "<Figure size 640x480 with 1 Axes>"
            ],
            "image/png": "[encoded data removed]"
          },
          "metadata": {}
        }
      ],
      "source": [
        "temp_file = open('x_train', 'wb')\n",
        "save_x_train = dump(x_train, temp_file)\n",
        "temp_file.close()\n",
        "\n",
        "temp_file = open('y_train', 'wb')\n",
        "save_y_train = dump(y_train, temp_file)\n",
        "temp_file.close()\n",
        "\n",
        "temp_file = open('x_test', 'wb')\n",
        "save_x_test = dump(x_test, temp_file)\n",
        "temp_file.close()\n",
        "\n",
        "temp_file = open('y_test', 'wb')\n",
        "save_y_test = dump(y_test, temp_file)\n",
        "temp_file.close()\n",
        "\n",
        "vocab = set()\n",
        "for sentence in x_train:\n",
        "    for word in sentence:\n",
        "        vocab.add(word)\n",
        "\n",
        "vocab.add('')  # for dummy words, to avoid adding a word that has meaning\n",
        "print(\"Vocab size:\", len(vocab))\n",
        "\n",
        "# Make a mapping between words and their IDs\n",
        "word2id = {word: id for id, word in enumerate(vocab)}\n",
        "id2word = {id: word for id, word in enumerate(vocab)}\n",
        "\n",
        "\n",
        "def encode_sentence(old_sentence):\n",
        "    encoded_sentence = []\n",
        "    dummy = word2id['']\n",
        "    for word in old_sentence:\n",
        "        try:\n",
        "            encoded_sentence.append(word2id[word])\n",
        "        except KeyError:\n",
        "            encoded_sentence.append(dummy)  # the none char\n",
        "    return encoded_sentence\n",
        "\n",
        "\n",
        "# Encoding train sentences\n",
        "x_train_encoded = [encode_sentence(sentence) for sentence in x_train]\n",
        "\n",
        "# Encoding test sentences\n",
        "x_test_encoded = [encode_sentence(sentence) for sentence in x_test]\n",
        "\n",
        "print(\"Len train:\", len(x_train_encoded))\n",
        "print(\"Len test:\", len(x_test_encoded))\n",
        "\n",
        "MAX_SEQ_LEN = 125\n",
        "dummy = word2id['']\n",
        "\n",
        "# Padding train sentences\n",
        "x_train_padded = pad_sequences(x_train_encoded, maxlen=MAX_SEQ_LEN, dtype='int32', padding='post', truncating='post',\n",
        "                               value=dummy)\n",
        "print(\"Train shape:\", x_train_padded.shape)\n",
        "\n",
        "# Padding test sentences\n",
        "x_test_padded = pad_sequences(x_test_encoded, maxlen=MAX_SEQ_LEN, dtype='int32', padding='post', truncating='post',\n",
        "                              value=dummy)\n",
        "print(\"Test shape:\", x_test_padded.shape)\n",
        "\n",
        "# Changing labels type and shape for training\n",
        "y_train = np.array(y_train)\n",
        "y_train = y_train.reshape((-1,))\n",
        "print(\"Train label shape:\", y_train.shape)\n",
        "\n",
        "y_test = np.array(y_test)\n",
        "y_test = y_test.reshape((-1,))\n",
        "print(\"Test label shape:\", y_test.shape)\n",
        "\n",
        "# embedding_path = \"/content/glove.6B.100d.txt\"\n",
        "# embeddings_index = {}\n",
        "\n",
        "# with open(embedding_path, encoding=\"utf8\") as f:\n",
        "#     for line in f:\n",
        "#         values = line.split()\n",
        "#         word = values[0]\n",
        "#         coefs = np.asarray(values[1:], dtype=\"float32\")\n",
        "#         embeddings_index[word] = coefs\n",
        "\n",
        "# embedding_dim = 100  # Size of the word embeddings\n",
        "# num_words = len(word2id) + 1  # Add 1 for unknown words\n",
        "# embedding_matrix = np.zeros((num_words, embedding_dim))\n",
        "\n",
        "# for word, id in word2id.items():\n",
        "#     embedding_vector = embeddings_index.get(word)\n",
        "#     if embedding_vector is not None:\n",
        "#         embedding_matrix[id] = embedding_vector\n",
        "import gensim.downloader as api\n",
        "\n",
        "# Check available models and their names\n",
        "print(api.info())\n",
        "\n",
        "# Load the GloVe model\n",
        "w2v = api.load('glove-twitter-200')\n",
        "\n",
        "# Use the loaded model for further processing\n",
        "w2v.most_similar(\"mahmoud\")\n",
        "\n",
        "num_words = len(vocab)\n",
        "embed_size, = w2v['mahmoud'].shape\n",
        "embedding_matrix = np.zeros(shape=(num_words, embed_size))\n",
        "\n",
        "for word, id in word2id.items():\n",
        "  try:\n",
        "    embedding_matrix[id] = w2v[word]\n",
        "  except KeyError:\n",
        "    embedding_matrix[id] = np.zeros(embed_size)\n",
        "\n",
        "embedding_matrix.shape\n",
        "\n",
        "tf.keras.backend.clear_session()\n",
        "\n",
        "# Create model\n",
        "lstm_model = Sequential(name='SentimentAnalysis')\n",
        "lstm_model.add(Input(shape=(MAX_SEQ_LEN,), dtype='int32'))\n",
        "lstm_model.add(Embedding(input_dim=num_words,\n",
        "                         output_dim=embed_size,\n",
        "                         input_length=MAX_SEQ_LEN,\n",
        "                         weights=[embedding_matrix],\n",
        "                         trainable=False))\n",
        "lstm_model.add(LSTM(units=128))\n",
        "lstm_model.add(Dense(units=3, activation='softmax'))\n",
        "\n",
        "# Compile the model\n",
        "lstm_model.compile(optimizer=tf.keras.optimizers.Adam(lr=0.001),\n",
        "                   loss='sparse_categorical_crossentropy',\n",
        "                   metrics=['accuracy'])\n",
        "lstm_model.summary()\n",
        "\n",
        "\n"
      ]
    },
    {
      "cell_type": "markdown",
      "source": [
        "**Model Training and Evaluation**"
      ],
      "metadata": {
        "id": "-_h9Lt9YzU_W"
      }
    },
    {
      "cell_type": "code",
      "source": [
        "# Train the model\n",
        "history = lstm_model.fit(x_train_padded,\n",
        "                         y_train,\n",
        "                         validation_split=0.2,\n",
        "                         batch_size=32,\n",
        "                         epochs=10)\n",
        "\n",
        "# Evaluate the model\n",
        "loss, accuracy = lstm_model.evaluate(x_test_padded, y_test)\n",
        "print(\"Test accuracy:\", round(accuracy * 100, 2), \"%\")\n",
        "\n",
        "# Plot training and validation accuracy curves\n",
        "plt.plot(history.history['accuracy'])\n",
        "plt.plot(history.history['val_accuracy'])\n",
        "plt.title('Model Accuracy')\n",
        "plt.xlabel('Epochs')\n",
        "plt.ylabel('Accuracy')\n",
        "plt.legend(['Train', 'Validation'], loc='upper left')\n",
        "plt.show()\n",
        "\n",
        "# Plot training and validation loss curves\n",
        "plt.plot(history.history['loss'])\n",
        "plt.plot(history.history['val_loss'])\n",
        "plt.title('Model Loss')\n",
        "plt.xlabel('Epochs')\n",
        "plt.ylabel('Loss')\n",
        "plt.legend(['Train', 'Validation'], loc='upper left')\n",
        "plt.show()"
      ],
      "metadata": {
        "id": "xGByB4w4zF70"
      },
      "execution_count": null,
      "outputs": []
    },
    {
      "cell_type": "markdown",
      "source": [
        "**PREDICTIONS**"
      ],
      "metadata": {
        "id": "M8tlhc8hzbXT"
      }
    },
    {
      "cell_type": "code",
      "execution_count": null,
      "metadata": {
        "id": "Z0SEs0x82i9b"
      },
      "outputs": [],
      "source": [
        "# Custom function to predict sentences\n",
        "def lstm_predict(sentence:str):\n",
        "  sentence = clean_sentence(sentence)\n",
        "  # Encode sentence\n",
        "  ready_sentence = encode_sentence(sentence)\n",
        "  # Padding sentence\n",
        "  ready_sentence = pad_sequences(sequences = [ready_sentence],\n",
        "                                 maxlen=MAX_SEQ_LEN,\n",
        "                                 dtype='int32',\n",
        "                                 padding='post',\n",
        "                                 truncating='post',\n",
        "                                 value = dummy)\n",
        "\n",
        "  # Predict\n",
        "  prediction = round(lstm_model.predict(ready_sentence)[0][0])\n",
        "  if prediction==0:\n",
        "    print(\"Negative Review\")\n",
        "  elif prediction==1:\n",
        "    print(\"Positive Review\")\n",
        "  else:\n",
        "    print('Error')"
      ]
    },
    {
      "cell_type": "code",
      "execution_count": null,
      "metadata": {
        "id": "1jCs5ED74EZ0",
        "colab": {
          "base_uri": "https://localhost:8080/"
        },
        "outputId": "74b1f252-6972-4793-dfac-2cabefb2fce9"
      },
      "outputs": [
        {
          "output_type": "stream",
          "name": "stdout",
          "text": [
            "1/1 [==============================] - 1s 633ms/step\n",
            "Positive Review\n"
          ]
        }
      ],
      "source": [
        "# Straight forward positive\n",
        "lstm_predict(\"this sucks\")\n"
      ]
    },
    {
      "cell_type": "markdown",
      "source": [
        "**EXPERIMENTAL ACCURATE MODEL**\n"
      ],
      "metadata": {
        "id": "qUm_CY9BgHbY"
      }
    },
    {
      "cell_type": "code",
      "source": [
        "tf.keras.backend.clear_session() # Makes sure old model was deleted if exists\n",
        "\n",
        "# create model\n",
        "lstm_model = Sequential(name='sENTIMENT ANALYSIS 2 ')\n",
        "\n",
        "lstm_model.add(Input(shape=(MAX_SEQ_LEN,), dtype='int32'))\n",
        "lstm_model.add(Embedding(input_dim = len(vocab),            # Vocabulary Size (number of unique words for training)\n",
        "                        output_dim = embed_size,            # Length of the vector for each word (embedding dimension)\n",
        "                        input_length = MAX_SEQ_LEN,         # Maximum length of a sequence\n",
        "                        weights = [embedding_matrix],       # Send the needed glove-twitter-200 Weights\n",
        "                        trainable = False))\n",
        "\n",
        "lstm_model.add(LSTM(units = 30,\n",
        "                    return_sequences=True,\n",
        "                    # dropout=0.5,\n",
        "                    # recurrent_dropout=0.5\n",
        "                    )\n",
        "              )\n",
        "lstm_model.add(LSTM(units = 30,\n",
        "                    # return_sequences=True,\n",
        "                    # dropout=0.5,\n",
        "                    # recurrent_dropout=0.5\n",
        "                    )\n",
        "              )\n",
        "lstm_model.add(Dense(1, activation='sigmoid'))\n",
        "\n",
        "# Compile the model\n",
        "lstm_model.compile(optimizer=tf.keras.optimizers.Adam(lr=0.0001, beta_1=0.9, beta_2=0.999),\n",
        "                   loss='binary_crossentropy',\n",
        "                   metrics=['accuracy'])\n",
        "lstm_model.summary()"
      ],
      "metadata": {
        "colab": {
          "base_uri": "https://localhost:8080/"
        },
        "id": "3vn_7SoDy0IG",
        "outputId": "4a85bac2-6327-4841-af3f-abe70878142e"
      },
      "execution_count": null,
      "outputs": [
        {
          "output_type": "stream",
          "name": "stderr",
          "text": [
            "WARNING:absl:`lr` is deprecated in Keras optimizer, please use `learning_rate` or use the legacy optimizer, e.g.,tf.keras.optimizers.legacy.Adam.\n"
          ]
        },
        {
          "output_type": "stream",
          "name": "stdout",
          "text": [
            "Model: \"Rating\"\n",
            "_________________________________________________________________\n",
            " Layer (type)                Output Shape              Param #   \n",
            "=================================================================\n",
            " embedding (Embedding)       (None, 125, 200)          16568200  \n",
            "                                                                 \n",
            " lstm (LSTM)                 (None, 125, 30)           27720     \n",
            "                                                                 \n",
            " lstm_1 (LSTM)               (None, 30)                7320      \n",
            "                                                                 \n",
            " dense (Dense)               (None, 1)                 31        \n",
            "                                                                 \n",
            "=================================================================\n",
            "Total params: 16,603,271\n",
            "Trainable params: 35,071\n",
            "Non-trainable params: 16,568,200\n",
            "_________________________________________________________________\n"
          ]
        }
      ]
    },
    {
      "cell_type": "code",
      "source": [
        "train_data, train_labels = shuffle(x_train_padded, y_train, random_state=42)\n"
      ],
      "metadata": {
        "id": "aLPMqygUzb-u"
      },
      "execution_count": null,
      "outputs": []
    },
    {
      "cell_type": "code",
      "source": [
        "\n",
        "history=lstm_model.fit(train_data,\n",
        "               train_labels,\n",
        "               validation_split=0.20,\n",
        "               batch_size = 50,\n",
        "               epochs = 10)"
      ],
      "metadata": {
        "id": "W03-cJUHzgbC",
        "colab": {
          "base_uri": "https://localhost:8080/"
        },
        "outputId": "4584df36-0507-40de-adf9-7e781db71354"
      },
      "execution_count": null,
      "outputs": [
        {
          "output_type": "stream",
          "name": "stdout",
          "text": [
            "Epoch 1/10\n",
            "96/96 [==============================] - 15s 128ms/step - loss: 0.6779 - accuracy: 0.5648 - val_loss: 0.6712 - val_accuracy: 0.5950\n",
            "Epoch 2/10\n",
            "96/96 [==============================] - 12s 121ms/step - loss: 0.5849 - accuracy: 0.7121 - val_loss: 0.5753 - val_accuracy: 0.7133\n",
            "Epoch 3/10\n",
            "96/96 [==============================] - 12s 124ms/step - loss: 0.5453 - accuracy: 0.7423 - val_loss: 0.5477 - val_accuracy: 0.7358\n",
            "Epoch 4/10\n",
            "96/96 [==============================] - 12s 124ms/step - loss: 0.4846 - accuracy: 0.7850 - val_loss: 0.5000 - val_accuracy: 0.7742\n",
            "Epoch 5/10\n",
            "96/96 [==============================] - 12s 123ms/step - loss: 0.4306 - accuracy: 0.8138 - val_loss: 0.4866 - val_accuracy: 0.7725\n",
            "Epoch 6/10\n",
            "96/96 [==============================] - 12s 124ms/step - loss: 0.4100 - accuracy: 0.8271 - val_loss: 0.4463 - val_accuracy: 0.7867\n",
            "Epoch 7/10\n",
            "96/96 [==============================] - 13s 133ms/step - loss: 0.3875 - accuracy: 0.8440 - val_loss: 0.4618 - val_accuracy: 0.7950\n",
            "Epoch 8/10\n",
            "96/96 [==============================] - 12s 121ms/step - loss: 0.3517 - accuracy: 0.8577 - val_loss: 0.4763 - val_accuracy: 0.8058\n",
            "Epoch 9/10\n",
            "96/96 [==============================] - 11s 119ms/step - loss: 0.3393 - accuracy: 0.8631 - val_loss: 0.4642 - val_accuracy: 0.8050\n",
            "Epoch 10/10\n",
            "96/96 [==============================] - 11s 110ms/step - loss: 0.2940 - accuracy: 0.8867 - val_loss: 0.4479 - val_accuracy: 0.8092\n"
          ]
        }
      ]
    },
    {
      "cell_type": "code",
      "source": [
        "l, a = lstm_model.evaluate(x_test_padded, y_test)\n",
        "print(\"Test accuracy:\", round(a*100,2),\"%\")"
      ],
      "metadata": {
        "id": "qYVyrIzbzjeM",
        "colab": {
          "base_uri": "https://localhost:8080/"
        },
        "outputId": "98919cd1-aba0-41a3-f076-d85cd9573770"
      },
      "execution_count": null,
      "outputs": [
        {
          "output_type": "stream",
          "name": "stdout",
          "text": [
            "63/63 [==============================] - 3s 32ms/step - loss: 0.4254 - accuracy: 0.8000\n",
            "Test accuracy: 80.0 %\n"
          ]
        }
      ]
    },
    {
      "cell_type": "code",
      "source": [
        "# Custom function to predict sentences\n",
        "def lstm_predict(sentence:str):\n",
        "  sentence = clean_sentence(sentence)\n",
        "  # Encode sentence\n",
        "  ready_sentence = encode_sentence(sentence)\n",
        "  # Padding sentence\n",
        "  ready_sentence = pad_sequences(sequences = [ready_sentence],\n",
        "                                 maxlen=MAX_SEQ_LEN,\n",
        "                                 dtype='int32',\n",
        "                                 padding='post',\n",
        "                                 truncating='post',\n",
        "                                 value = dummy)\n",
        "\n",
        "  # Predict\n",
        "  prediction = round(lstm_model.predict(ready_sentence)[0][0])\n",
        "  if prediction==0:\n",
        "    print(\"Negative Review\")\n",
        "  elif prediction==1:\n",
        "    print(\"Positive Review\")\n",
        "  else:\n",
        "    print('Error')"
      ],
      "metadata": {
        "id": "SO7W1T7SznAk"
      },
      "execution_count": null,
      "outputs": []
    },
    {
      "cell_type": "code",
      "source": [
        "plt.plot(history.history['accuracy'])\n",
        "plt.plot(history.history['val_accuracy'])\n",
        "plt.title('Model Accuracy')\n",
        "plt.xlabel('Epochs')\n",
        "plt.ylabel('Accuracy')\n",
        "plt.legend(['Train', 'Validation'], loc='upper left')\n",
        "plt.show()\n",
        "\n",
        "# Plot training and validation loss curves\n",
        "plt.plot(history.history['loss'])\n",
        "plt.plot(history.history['val_loss'])\n",
        "plt.title('Model Loss')\n",
        "plt.xlabel('Epochs')\n",
        "plt.ylabel('Loss')\n",
        "plt.legend(['Train', 'Validation'], loc='upper left')\n",
        "plt.show()"
      ],
      "metadata": {
        "id": "OZtOYw8uFQpY",
        "colab": {
          "base_uri": "https://localhost:8080/",
          "height": 927
        },
        "outputId": "602f23ce-0272-427d-f27e-6ffd280c39f7"
      },
      "execution_count": null,
      "outputs": [
        {
          "output_type": "display_data",
          "data": {
            "text/plain": [
              "<Figure size 640x480 with 1 Axes>"
            ],
            "image/png": "[encoded data removed]"
          },
          "metadata": {}
        },
        {
          "output_type": "display_data",
          "data": {
            "text/plain": [
              "<Figure size 640x480 with 1 Axes>"
            ],
            "image/png": "[encoded data removed]"
          },
          "metadata": {}
        }
      ]
    },
    {
      "cell_type": "code",
      "source": [
        "# Straight forward positive\n",
        "lstm_predict(\"I really recommend this book\")\n"
      ],
      "metadata": {
        "id": "3rWcFIWSzpQS",
        "colab": {
          "base_uri": "https://localhost:8080/"
        },
        "outputId": "e8c3d130-6c45-4506-9c03-46053768ef84"
      },
      "execution_count": null,
      "outputs": [
        {
          "output_type": "stream",
          "name": "stdout",
          "text": [
            "1/1 [==============================] - 1s 806ms/step\n",
            "Positive Review\n"
          ]
        }
      ]
    },
    {
      "cell_type": "code",
      "source": [
        "\n",
        "# Tricky positive\n",
        "lstm_predict(\"The dvd included a big poster of my favorite hero. I just can't wait for the second episode\")"
      ],
      "metadata": {
        "id": "AaDSc-e2zri_",
        "colab": {
          "base_uri": "https://localhost:8080/"
        },
        "outputId": "19a80943-62f3-4c0a-c88e-223fe77e3ba0"
      },
      "execution_count": null,
      "outputs": [
        {
          "output_type": "stream",
          "name": "stdout",
          "text": [
            "1/1 [==============================] - 0s 41ms/step\n",
            "Positive Review\n"
          ]
        }
      ]
    },
    {
      "cell_type": "code",
      "source": [
        "# Straight forward negative\n",
        "lstm_predict(\"I don't know what the hell did i just read, the book is full nonsense\")"
      ],
      "metadata": {
        "id": "4UTHOVdjzthx",
        "colab": {
          "base_uri": "https://localhost:8080/"
        },
        "outputId": "a78f13db-38f2-4b32-b7ac-0f7bb9a06269"
      },
      "execution_count": null,
      "outputs": [
        {
          "output_type": "stream",
          "name": "stdout",
          "text": [
            "1/1 [==============================] - 0s 39ms/step\n",
            "Negative Review\n"
          ]
        }
      ]
    },
    {
      "cell_type": "code",
      "source": [
        "lstm_predict(\"this sucks\")"
      ],
      "metadata": {
        "colab": {
          "base_uri": "https://localhost:8080/"
        },
        "id": "PWes52EsGEpo",
        "outputId": "cfb580cb-a38d-4bcc-fc18-bab402dbe5e6"
      },
      "execution_count": null,
      "outputs": [
        {
          "output_type": "stream",
          "name": "stdout",
          "text": [
            "1/1 [==============================] - 0s 57ms/step\n",
            "Negative Review\n"
          ]
        }
      ]
    },
    {
      "cell_type": "code",
      "source": [
        "lstm_model.save('lstm_model.h5',save_format='h5')"
      ],
      "metadata": {
        "id": "Vw4oMBt8fuF5"
      },
      "execution_count": null,
      "outputs": []
    },
    {
      "cell_type": "code",
      "source": [
        "import re\n",
        "import nltk\n",
        "from nltk.corpus import stopwords\n",
        "from nltk.tokenize import word_tokenize\n",
        "from nltk.stem.porter import PorterStemmer\n",
        "import numpy as np\n",
        "import gensim.downloader as api\n",
        "import tensorflow as tf\n",
        "from tensorflow.keras.preprocessing.sequence import pad_sequences\n",
        "from flask import Flask, request, render_template\n",
        "\n",
        "app = Flask(__name__)\n",
        "# Initialize GPU devices\n",
        "gpus = tf.config.experimental.list_physical_devices('GPU')\n",
        "if gpus:\n",
        "    try:\n",
        "        for gpu in gpus:\n",
        "            tf.config.experimental.set_memory_growth(gpu, True)\n",
        "    except RuntimeError as e:\n",
        "        print(e)\n",
        "\n",
        "# Load the LSTM model\n",
        "model = tf.keras.models.load_model('lstm_model.h5')\n",
        "\n",
        "# Load the word embeddings model (GloVe)\n",
        "w2v = api.load('glove-twitter-200')\n",
        "\n",
        "# Function to clean and preprocess the input sentence\n",
        "def clean_sentence(sentence):\n",
        "    # Remove the review tag\n",
        "    tags = re.compile(\"(|<\\/review_text>)\")\n",
        "    sentence = re.sub(tags, '', sentence)\n",
        "\n",
        "    # lower case\n",
        "    sentence = sentence.lower()\n",
        "\n",
        "    # Remove emails and urls\n",
        "    email_urls = re.compile(\"(\\bhttp.+? | \\b[A-Za-z0-9._%+-]+@[A-Za-z0-9.-]+\\.[A-Z|a-z]{2,}\\b)\")\n",
        "    sentence = re.sub(email_urls, '', sentence)\n",
        "\n",
        "    # Some used '@' to hide offensive words (bla -> bl@)\n",
        "    ats = re.compile('@')\n",
        "    sentence = re.sub(ats, 'a', sentence)\n",
        "\n",
        "    # Remove Punctuation\n",
        "    # punc = re.compile(\"[!\\\"\\#$\\%\\&\\'\\*\\+,\\-\\.\\/\\:;<=>\\?\n",
        "    punc = re.compile(\"[^\\w\\s(\\w+\\-\\w+)]\")\n",
        "    sentence = re.sub(punc, '', sentence)\n",
        "\n",
        "    # Remove stopwords and tokenize\n",
        "    # sentence = sentence.split(sep=' ')\n",
        "    sentence = word_tokenize(sentence)\n",
        "    sentence = [word for word in sentence if not word in stopwords.words()]\n",
        "\n",
        "    # Stemming (Returning to root)\n",
        "    # stemmer = PorterStemmer()\n",
        "    # sentence = [stemmer.stem(word) for word in sentence]\n",
        "\n",
        "    return sentence\n",
        "from pickle import load\n",
        "with open('x_train', 'rb') as file:\n",
        "    x_train = load(file)\n",
        "\n",
        "# Define word2id and old_sentence based on the provided code\n",
        "vocab = set()\n",
        "for sentence in x_train:\n",
        "    for word in sentence:\n",
        "        vocab.add(word)\n",
        "\n",
        "# Add dummy word to vocab to avoid adding a word with meaning\n",
        "vocab.add('')\n",
        "\n",
        "# Make a mapping between words and their IDs\n",
        "word2id = {word: id for id, word in enumerate(vocab)}\n",
        "id2word = {id: word for id, word in enumerate(vocab)}\n",
        "\n",
        "# Function to encode the sentence\n",
        "def encode_sentence(sentence):\n",
        "    encoded_sentence = []\n",
        "    dummy = word2id['']\n",
        "    for word in sentence:\n",
        "        try:\n",
        "            encoded_sentence.append(word2id[word])\n",
        "        except KeyError:\n",
        "            encoded_sentence.append(dummy)  # the none char\n",
        "    return encoded_sentence\n",
        "\n",
        "# Function to predict the sentiment\n",
        "def lstm_predict(sentence):\n",
        "    sentence = clean_sentence(sentence)\n",
        "    ready_sentence = encode_sentence(sentence)\n",
        "\n",
        "    # Padding sentence\n",
        "    ready_sentence = pad_sequences(\n",
        "        sequences=[ready_sentence],\n",
        "        maxlen=125,\n",
        "        dtype='int32',\n",
        "        padding='post',\n",
        "        truncating='post',\n",
        "        value=0\n",
        "    )\n",
        "\n",
        "    # Predict\n",
        "    prediction = round(model.predict(ready_sentence)[0][0])\n",
        "\n",
        "    return \"Positive Review\" if prediction == 1 else \"Negative Review\"\n",
        "\n",
        "# Flask route to handle the home page\n",
        "@app.route('/')\n",
        "def home():\n",
        "    return render_template('index.html')\n",
        "\n",
        "# Flask route to handle the form submission and display the prediction\n",
        "@app.route('/', methods=['POST'])\n",
        "def predict():\n",
        "    sentence = request.form['sentence']\n",
        "    prediction = lstm_predict(sentence)\n",
        "    return render_template('index.html', prediction=prediction)\n",
        "\n",
        "if __name__ == '__main__':\n",
        "    app.run(debug=True)\n"
      ],
      "metadata": {
        "colab": {
          "base_uri": "https://localhost:8080/"
        },
        "id": "KTLdUWUdNpLs",
        "outputId": "cbec8536-bea1-4b42-9f19-984d0659e7de"
      },
      "execution_count": null,
      "outputs": [
        {
          "output_type": "stream",
          "name": "stdout",
          "text": [
            " * Serving Flask app '__main__'\n",
            " * Debug mode: on\n"
          ]
        },
        {
          "output_type": "stream",
          "name": "stderr",
          "text": [
            "INFO:werkzeug:\u001b[31m\u001b[1mWARNING: This is a development server. Do not use it in a production deployment. Use a production WSGI server instead.\u001b[0m\n",
            " * Running on http://127.0.0.1:5000\n",
            "INFO:werkzeug:\u001b[33mPress CTRL+C to quit\u001b[0m\n",
            "INFO:werkzeug: * Restarting with stat\n"
          ]
        }
      ]
    },
    {
      "cell_type": "code",
      "source": [],
      "metadata": {
        "id": "qhNs_BazPj6B"
      },
      "execution_count": null,
      "outputs": []
    }
  ],
  "metadata": {
    "colab": {
      "provenance": [],
      "authorship_tag": "ABX9TyM6qctkDGx0LY2/u6jGGRdh",
      "include_colab_link": true
    },
    "kernelspec": {
      "display_name": "Python 3",
      "name": "python3"
    },
    "language_info": {
      "name": "python"
    }
  },
  "nbformat": 4,
  "nbformat_minor": 0
}